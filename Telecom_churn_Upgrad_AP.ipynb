{
  "nbformat": 4,
  "nbformat_minor": 0,
  "metadata": {
    "colab": {
      "provenance": []
    },
    "kernelspec": {
      "name": "python3",
      "display_name": "Python 3"
    },
    "language_info": {
      "name": "python"
    }
  },
  "cells": [
    {
      "cell_type": "markdown",
      "source": [
        "# **Problem Statement & Business context:**\n",
        "\n",
        "In the telecom industry, customers are able to choose from multiple service providers and actively switch from one operator to another. In this highly competitive market, the telecommunications industry experiences an average of 15-25% annual churn rate. Given the fact that it costs 5-10 times more to acquire a new customer than to retain an existing one, customer retention has now become more important than customer acquisition.\n",
        "\n",
        "For many incumbent operators, retaining highly profitable customers is the number one business goal.\n",
        "\n",
        "To reduce customer churn, telecom companies need to predict which highly profitable customers are at risk of churn.\n",
        "\n",
        "In this project, we will analyse customer-level data of a leading telecom firm, build predictive models to identify customers at high risk of churn and identify the main indicators of churn."
      ],
      "metadata": {
        "id": "ZV7kGQJrEGnQ"
      }
    },
    {
      "cell_type": "markdown",
      "source": [
        "# **Understanding the Data:**\n",
        "\n",
        "The dataset contains customer-level information for a span of four consecutive months - June, July, August and September. The months are encoded as 6, 7, 8 and 9, respectively.\n",
        "\n",
        "\n",
        "The business objective is to predict the churn in the last (i.e. the ninth) month using the data (features) from the first three months. To do this task well, understanding the typical customer behaviour during churn will be helpful."
      ],
      "metadata": {
        "id": "aagdcZbZE7zg"
      }
    },
    {
      "cell_type": "markdown",
      "source": [
        "The following steps were carried out on the dataset and data dictionary to prepare the full-scale code for building the prediction model. Let's start by:\n",
        "\n",
        "1.   Loading the dataset\n",
        "2.   Understanding the structure and data types\n",
        "3.   Filtering high-value customers\n",
        "4.   Tagging churners and removing churn-phase attributes\n",
        "5.   Building predictive models\n",
        "6.   Handling class imbalance\n",
        "7.   Visualizing important predictors\n",
        "8.   Recommending churn management strategies\n",
        "\n",
        "\n"
      ],
      "metadata": {
        "id": "i-5k2x1VFQfN"
      }
    },
    {
      "cell_type": "markdown",
      "source": [
        "# Step 1: Load Required Libraries\n",
        "\n",
        "*   Load necessary Python libraries for data processing, visualization, and machine\n",
        "learning.\n",
        "\n",
        "\n"
      ],
      "metadata": {
        "id": "Qxa5W8jfGIkO"
      }
    },
    {
      "cell_type": "code",
      "execution_count": null,
      "metadata": {
        "id": "1ykh2uKO5qk1"
      },
      "outputs": [],
      "source": [
        "import pandas as pd\n",
        "import numpy as np\n",
        "import matplotlib.pyplot as plt\n",
        "import seaborn as sns\n",
        "from sklearn.model_selection import train_test_split\n",
        "from sklearn.preprocessing import StandardScaler\n",
        "from sklearn.linear_model import LogisticRegression\n",
        "from sklearn.ensemble import RandomForestClassifier\n",
        "from sklearn.metrics import classification_report, confusion_matrix, accuracy_score\n",
        "from imblearn.over_sampling import SMOTE\n"
      ]
    },
    {
      "cell_type": "markdown",
      "source": [
        "# Step 2: Load the Data\n",
        "\n",
        "\n",
        "*   Read the telecom churn dataset and inspect its structure.\n",
        "\n",
        "\n"
      ],
      "metadata": {
        "id": "ndy9ZeCuGPTe"
      }
    },
    {
      "cell_type": "code",
      "source": [
        "# Load dataset\n",
        "df = pd.read_csv(\"telecom_churn_data.csv\")\n",
        "\n",
        "# Display basic info\n",
        "print(df.info())\n",
        "print(df.head())"
      ],
      "metadata": {
        "colab": {
          "base_uri": "https://localhost:8080/"
        },
        "id": "tFGX8UL58HqA",
        "outputId": "ce1ebf24-a182-4ad7-a2d9-33baf6a0fb51"
      },
      "execution_count": null,
      "outputs": [
        {
          "output_type": "stream",
          "name": "stdout",
          "text": [
            "<class 'pandas.core.frame.DataFrame'>\n",
            "RangeIndex: 99999 entries, 0 to 99998\n",
            "Columns: 226 entries, mobile_number to sep_vbc_3g\n",
            "dtypes: float64(179), int64(35), object(12)\n",
            "memory usage: 172.4+ MB\n",
            "None\n",
            "   mobile_number  circle_id  loc_og_t2o_mou  std_og_t2o_mou  loc_ic_t2o_mou  \\\n",
            "0     7000842753        109             0.0             0.0             0.0   \n",
            "1     7001865778        109             0.0             0.0             0.0   \n",
            "2     7001625959        109             0.0             0.0             0.0   \n",
            "3     7001204172        109             0.0             0.0             0.0   \n",
            "4     7000142493        109             0.0             0.0             0.0   \n",
            "\n",
            "  last_date_of_month_6 last_date_of_month_7 last_date_of_month_8  \\\n",
            "0            6/30/2014            7/31/2014            8/31/2014   \n",
            "1            6/30/2014            7/31/2014            8/31/2014   \n",
            "2            6/30/2014            7/31/2014            8/31/2014   \n",
            "3            6/30/2014            7/31/2014            8/31/2014   \n",
            "4            6/30/2014            7/31/2014            8/31/2014   \n",
            "\n",
            "  last_date_of_month_9   arpu_6  ...  sachet_3g_9  fb_user_6  fb_user_7  \\\n",
            "0            9/30/2014  197.385  ...            0        1.0        1.0   \n",
            "1            9/30/2014   34.047  ...            0        NaN        1.0   \n",
            "2            9/30/2014  167.690  ...            0        NaN        NaN   \n",
            "3            9/30/2014  221.338  ...            0        NaN        NaN   \n",
            "4            9/30/2014  261.636  ...            0        0.0        NaN   \n",
            "\n",
            "   fb_user_8  fb_user_9   aon  aug_vbc_3g  jul_vbc_3g  jun_vbc_3g  sep_vbc_3g  \n",
            "0        1.0        NaN   968        30.4         0.0      101.20        3.58  \n",
            "1        1.0        NaN  1006         0.0         0.0        0.00        0.00  \n",
            "2        NaN        1.0  1103         0.0         0.0        4.17        0.00  \n",
            "3        NaN        NaN  2491         0.0         0.0        0.00        0.00  \n",
            "4        NaN        NaN  1526         0.0         0.0        0.00        0.00  \n",
            "\n",
            "[5 rows x 226 columns]\n"
          ]
        }
      ]
    },
    {
      "cell_type": "markdown",
      "source": [
        "# Step 3: Filter High-Value Customers\n",
        "\n",
        "*  Identify high-value customers based on their recharge amount in the first two months.\n",
        "*   Define high-value customers as those whose average recharge amount is above the 70th percentile.\n",
        "\n",
        "\n"
      ],
      "metadata": {
        "id": "UKUQFrW7GYT0"
      }
    },
    {
      "cell_type": "code",
      "source": [
        "# Compute the average recharge amount in months 6 and 7\n",
        "df[\"avg_rech_amt_6_7\"] = (df[\"total_rech_amt_6\"] + df[\"total_rech_amt_7\"]) / 2\n",
        "\n",
        "# Find the 70th percentile value\n",
        "high_value_threshold = df[\"avg_rech_amt_6_7\"].quantile(0.70)\n",
        "\n",
        "# Filter customers who have an average recharge above this threshold\n",
        "df_high_value = df[df[\"avg_rech_amt_6_7\"] >= high_value_threshold]\n",
        "print(f\"Number of high-value customers: {df_high_value.shape[0]}\")"
      ],
      "metadata": {
        "colab": {
          "base_uri": "https://localhost:8080/"
        },
        "id": "HkBH14qW8fU9",
        "outputId": "b3ee4833-1c19-4575-b244-99d17cc31a7d"
      },
      "execution_count": null,
      "outputs": [
        {
          "output_type": "stream",
          "name": "stdout",
          "text": [
            "Number of high-value customers: 30011\n"
          ]
        }
      ]
    },
    {
      "cell_type": "markdown",
      "source": [
        "# Step 4: Tag Churners and Remove Month 9 Data\n",
        "Objective:\n",
        "\n",
        "   # Define churners based on customer behavior in month 9.\n",
        "   # A customer is churned (1) if:\n",
        "  #No outgoing calls\n",
        "  #No incoming calls\n",
        "  #No 2G or 3G data usage\n",
        "  \n",
        "  #Remove all columns related to month 9 after tagging churners."
      ],
      "metadata": {
        "id": "5us6UNJuHca0"
      }
    },
    {
      "cell_type": "code",
      "source": [
        "# Define churners: Customers with zero calls and zero data usage in month 9\n",
        "df_high_value[\"churn\"] = (\n",
        "    (df_high_value[\"total_ic_mou_9\"] == 0) &\n",
        "    (df_high_value[\"total_og_mou_9\"] == 0) &\n",
        "    (df_high_value[\"vol_2g_mb_9\"] == 0) &\n",
        "    (df_high_value[\"vol_3g_mb_9\"] == 0)\n",
        ").astype(int)\n",
        "\n",
        "# Drop all columns related to month 9\n",
        "cols_to_drop = [col for col in df_high_value.columns if \"_9\" in col]\n",
        "df_high_value = df_high_value.drop(columns=cols_to_drop)\n",
        "\n",
        "# Display churn rate\n",
        "churn_rate = df_high_value[\"churn\"].mean()\n",
        "print(f\"Churn rate: {churn_rate:.2%}\")"
      ],
      "metadata": {
        "colab": {
          "base_uri": "https://localhost:8080/"
        },
        "id": "xOz7cIvB8igp",
        "outputId": "98e8061d-72b8-4b80-af8e-187aea4ad546"
      },
      "execution_count": null,
      "outputs": [
        {
          "output_type": "stream",
          "name": "stdout",
          "text": [
            "Churn rate: 8.64%\n"
          ]
        },
        {
          "output_type": "stream",
          "name": "stderr",
          "text": [
            "<ipython-input-28-97062dc571ff>:2: SettingWithCopyWarning: \n",
            "A value is trying to be set on a copy of a slice from a DataFrame.\n",
            "Try using .loc[row_indexer,col_indexer] = value instead\n",
            "\n",
            "See the caveats in the documentation: https://pandas.pydata.org/pandas-docs/stable/user_guide/indexing.html#returning-a-view-versus-a-copy\n",
            "  df_high_value[\"churn\"] = (\n"
          ]
        }
      ]
    },
    {
      "cell_type": "markdown",
      "source": [
        "# Step 5: Feature Selection and Data Cleaning\n",
        "Objective:\n",
        "\n",
        " #Remove irrelevant features like mobile number.\n",
        " #Handle missing values by filling them with 0.\n",
        " #Split the data into features (X) and target (y)."
      ],
      "metadata": {
        "id": "--Nw2OqQHyMG"
      }
    },
    {
      "cell_type": "code",
      "source": [
        "# Define columns to drop\n",
        "cols_to_remove = {\"mobile_number\", \"circle_id\"}  # Use a set to avoid errors\n",
        "\n",
        "# Drop only if columns exist in the dataframe\n",
        "df_high_value = df_high_value.drop(columns=list(cols_to_remove.intersection(df_high_value.columns)), errors=\"ignore\")\n",
        "\n",
        "# Fill missing values with 0\n",
        "df_high_value = df_high_value.fillna(0)\n"
      ],
      "metadata": {
        "id": "L4RxCrUP8noU"
      },
      "execution_count": null,
      "outputs": []
    },
    {
      "cell_type": "markdown",
      "source": [
        "# Step 6: Handle Class Imbalance using SMOTE\n",
        "\n",
        "Objective:\n",
        "\n",
        "   #Churn rate is low (~5-10%), leading to class imbalance.\n",
        "  #Apply SMOTE (Synthetic Minority Over-sampling Technique) to balance the classes."
      ],
      "metadata": {
        "id": "k-G-iUtdIT6R"
      }
    },
    {
      "cell_type": "code",
      "source": [
        "from imblearn.over_sampling import SMOTE\n",
        "\n",
        "# Check if there are any non-numeric columns\n",
        "non_numeric_cols = X.select_dtypes(include=['object']).columns\n",
        "print(\"Non-numeric columns:\", non_numeric_cols)\n",
        "\n",
        "# Drop non-numeric columns if they exist\n",
        "X = X.drop(columns=non_numeric_cols, errors=\"ignore\")\n",
        "\n",
        "# Standardize numerical features (Required for SMOTE)\n",
        "scaler = StandardScaler()\n",
        "X_scaled = scaler.fit_transform(X)\n",
        "\n",
        "# Handle class imbalance using SMOTE\n",
        "smote = SMOTE(sampling_strategy=0.5, random_state=42)\n",
        "X_resampled, y_resampled = smote.fit_resample(X_scaled, y)\n",
        "\n",
        "# Check new class distribution\n",
        "print(\"Class distribution after SMOTE:\")\n",
        "print(pd.Series(y_resampled).value_counts())"
      ],
      "metadata": {
        "colab": {
          "base_uri": "https://localhost:8080/"
        },
        "id": "ZSkXWnh79sW_",
        "outputId": "2e12c144-ae90-4f10-e778-f9383c9c2a13"
      },
      "execution_count": null,
      "outputs": [
        {
          "output_type": "stream",
          "name": "stdout",
          "text": [
            "Non-numeric columns: Index(['last_date_of_month_6', 'last_date_of_month_7', 'last_date_of_month_8',\n",
            "       'date_of_last_rech_6', 'date_of_last_rech_7', 'date_of_last_rech_8',\n",
            "       'date_of_last_rech_data_6', 'date_of_last_rech_data_7',\n",
            "       'date_of_last_rech_data_8'],\n",
            "      dtype='object')\n",
            "Class distribution after SMOTE:\n",
            "churn\n",
            "0    27418\n",
            "1    13709\n",
            "Name: count, dtype: int64\n"
          ]
        }
      ]
    },
    {
      "cell_type": "markdown",
      "source": [
        "# Step 7: Build a Logistic Regression Model\n",
        "Objective:\n",
        "\n",
        " #Train a logistic regression model to predict churn.\n",
        " #Evaluate the model using accuracy, precision, recall, and F1-score."
      ],
      "metadata": {
        "id": "rgPrfrIHIfUl"
      }
    },
    {
      "cell_type": "code",
      "source": [
        "# Split data into training and testing sets\n",
        "X_train, X_test, y_train, y_test = train_test_split(X_resampled, y_resampled, test_size=0.2, random_state=42)\n",
        "\n",
        "# Train a logistic regression model\n",
        "log_model = LogisticRegression(max_iter=500)\n",
        "log_model.fit(X_train, y_train)\n",
        "\n",
        "# Predict on test data\n",
        "y_pred = log_model.predict(X_test)\n",
        "\n",
        "# Model evaluation\n",
        "print(\"Logistic Regression Model Performance:\")\n",
        "print(classification_report(y_test, y_pred))\n",
        "print(\"Accuracy:\", accuracy_score(y_test, y_pred))\n"
      ],
      "metadata": {
        "colab": {
          "base_uri": "https://localhost:8080/"
        },
        "id": "M18nnlxx_dkt",
        "outputId": "fbcbfaae-dc12-4d58-f8d1-89f075f498fb"
      },
      "execution_count": null,
      "outputs": [
        {
          "output_type": "stream",
          "name": "stdout",
          "text": [
            "Logistic Regression Model Performance:\n",
            "              precision    recall  f1-score   support\n",
            "\n",
            "           0       0.88      0.90      0.89      5469\n",
            "           1       0.80      0.77      0.78      2757\n",
            "\n",
            "    accuracy                           0.86      8226\n",
            "   macro avg       0.84      0.83      0.84      8226\n",
            "weighted avg       0.86      0.86      0.86      8226\n",
            "\n",
            "Accuracy: 0.8566739606126915\n"
          ]
        }
      ]
    },
    {
      "cell_type": "markdown",
      "source": [
        "# Step 8: Feature Importance from Logistic Regression\n",
        "Objective:\n",
        "\n",
        "  #Identify the top 10 most important features in predicting churn."
      ],
      "metadata": {
        "id": "Crre3AbfIyBP"
      }
    },
    {
      "cell_type": "code",
      "source": [
        "# Get feature importance\n",
        "feature_importance = pd.DataFrame({\"Feature\": X.columns, \"Importance\": np.abs(log_model.coef_[0])})\n",
        "feature_importance = feature_importance.sort_values(by=\"Importance\", ascending=False)\n",
        "\n",
        "# Plot feature importance\n",
        "plt.figure(figsize=(10, 6))\n",
        "sns.barplot(x=\"Importance\", y=\"Feature\", data=feature_importance[:10])\n",
        "plt.title(\"Top 10 Important Features for Churn Prediction\")\n",
        "plt.show()\n"
      ],
      "metadata": {
        "colab": {
          "base_uri": "https://localhost:8080/",
          "height": 564
        },
        "id": "G3A78nLG_f_z",
        "outputId": "127b9068-64ea-4d31-a028-61a7ef737970"
      },
      "execution_count": null,
      "outputs": [
        {
          "output_type": "display_data",
          "data": {
            "text/plain": [
              "<Figure size 1000x600 with 1 Axes>"
            ],
            "image/png": "[encoded data removed]"
          },
          "metadata": {}
        }
      ]
    },
    {
      "cell_type": "markdown",
      "source": [
        "# Step 9: Train a Random Forest Model\n",
        "Objective:\n",
        "\n",
        "  #Train a random forest classifier and evaluate performance."
      ],
      "metadata": {
        "id": "DduVLEDrI5t5"
      }
    },
    {
      "cell_type": "code",
      "source": [
        "# Train a random forest classifier\n",
        "rf_model = RandomForestClassifier(n_estimators=100, random_state=42)\n",
        "rf_model.fit(X_train, y_train)\n",
        "\n",
        "# Predict on test data\n",
        "y_pred_rf = rf_model.predict(X_test)\n",
        "\n",
        "# Model evaluation\n",
        "print(\"Random Forest Model Performance:\")\n",
        "print(classification_report(y_test, y_pred_rf))\n",
        "print(\"Accuracy:\", accuracy_score(y_test, y_pred_rf))\n"
      ],
      "metadata": {
        "colab": {
          "base_uri": "https://localhost:8080/"
        },
        "id": "Ae54l08f_kMZ",
        "outputId": "d9d9546b-30db-4aa4-8808-6e3161be61a5"
      },
      "execution_count": null,
      "outputs": [
        {
          "output_type": "stream",
          "name": "stdout",
          "text": [
            "Random Forest Model Performance:\n",
            "              precision    recall  f1-score   support\n",
            "\n",
            "           0       0.96      0.96      0.96      5469\n",
            "           1       0.92      0.91      0.92      2757\n",
            "\n",
            "    accuracy                           0.94      8226\n",
            "   macro avg       0.94      0.94      0.94      8226\n",
            "weighted avg       0.94      0.94      0.94      8226\n",
            "\n",
            "Accuracy: 0.9434719183078045\n"
          ]
        }
      ]
    },
    {
      "cell_type": "markdown",
      "source": [
        "# Step 10: Feature Importance from Random Forest\n",
        "Objective:\n",
        "\n",
        "  #Identify important features using random forest feature importance."
      ],
      "metadata": {
        "id": "jHmoAag-JMeW"
      }
    },
    {
      "cell_type": "code",
      "source": [
        "# Get feature importance from Random Forest\n",
        "rf_importance = pd.DataFrame({\"Feature\": X.columns, \"Importance\": rf_model.feature_importances_})\n",
        "rf_importance = rf_importance.sort_values(by=\"Importance\", ascending=False)\n",
        "\n",
        "# Plot feature importance\n",
        "plt.figure(figsize=(10, 6))\n",
        "sns.barplot(x=\"Importance\", y=\"Feature\", data=rf_importance[:10])\n",
        "plt.title(\"Top 10 Important Features (Random Forest)\")\n",
        "plt.show()\n"
      ],
      "metadata": {
        "colab": {
          "base_uri": "https://localhost:8080/",
          "height": 564
        },
        "id": "Y0lkxOLm_1kz",
        "outputId": "470f778a-43ec-44ab-ccdc-00a7f334ca26"
      },
      "execution_count": null,
      "outputs": [
        {
          "output_type": "display_data",
          "data": {
            "text/plain": [
              "<Figure size 1000x600 with 1 Axes>"
            ],
            "image/png": "[encoded data removed]"
          },
          "metadata": {}
        }
      ]
    },
    {
      "cell_type": "markdown",
      "source": [
        "# Conclusion\n",
        "\n",
        "1.   Logistic Regression helps in understanding key churn factors.\n",
        "1.   Random Forest provides better predictive accuracy.\n",
        "3.   Class imbalance was handled using SMOTE.\n",
        "4.   Recharge amount, call duration, and data usage are key churn indicators.\n"
      ],
      "metadata": {
        "id": "1FU3uhyOJtHD"
      }
    },
    {
      "cell_type": "markdown",
      "source": [
        "# Step 11: Churn Management Strategy\n",
        "Business Recommendations:\n",
        "\n",
        "1.   Personalized offers for high-churn-risk customers.\n",
        "2.   Improve service quality for customers showing dissatisfaction.\n",
        "3.   Provide better data and call packages based on customer usage.\n",
        "4.   Identify customers with declining activity and engage with them.\n",
        "5.   Monitor high-value customers and provide retention plans.\n",
        "\n",
        "\n",
        "\n",
        "\n",
        "\n"
      ],
      "metadata": {
        "id": "-_O9xi3UJTsJ"
      }
    }
  ]
}